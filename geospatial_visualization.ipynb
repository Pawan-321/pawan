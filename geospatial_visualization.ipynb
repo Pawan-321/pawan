{
  "nbformat": 4,
  "nbformat_minor": 0,
  "metadata": {
    "colab": {
      "provenance": [],
      "authorship_tag": "ABX9TyMU25KWuZcn5jiODfAhZ+h3",
      "include_colab_link": true
    },
    "kernelspec": {
      "name": "python3",
      "display_name": "Python 3"
    },
    "language_info": {
      "name": "python"
    }
  },
  "cells": [
    {
      "cell_type": "markdown",
      "metadata": {
        "id": "view-in-github",
        "colab_type": "text"
      },
      "source": [
        "<a href=\"https://colab.research.google.com/github/Pawan-321/pawan/blob/main/geospatial_visualization.ipynb\" target=\"_parent\"><img src=\"https://colab.research.google.com/assets/colab-badge.svg\" alt=\"Open In Colab\"/></a>"
      ]
    },
    {
      "cell_type": "code",
      "execution_count": 1,
      "metadata": {
        "colab": {
          "base_uri": "https://localhost:8080/",
          "height": 211
        },
        "id": "3eE9XGsBLFH4",
        "outputId": "f47d12e1-9f63-4ad3-cb88-0998c1748ea0"
      },
      "outputs": [
        {
          "output_type": "error",
          "ename": "NameError",
          "evalue": "name 'df' is not defined",
          "traceback": [
            "\u001b[0;31m---------------------------------------------------------------------------\u001b[0m",
            "\u001b[0;31mNameError\u001b[0m                                 Traceback (most recent call last)",
            "\u001b[0;32m<ipython-input-1-c143508cb148>\u001b[0m in \u001b[0;36m<cell line: 0>\u001b[0;34m()\u001b[0m\n\u001b[1;32m     11\u001b[0m folium.Choropleth(\n\u001b[1;32m     12\u001b[0m     \u001b[0mgeo_data\u001b[0m\u001b[0;34m=\u001b[0m\u001b[0;34m\"world-countries.json\"\u001b[0m\u001b[0;34m,\u001b[0m\u001b[0;34m\u001b[0m\u001b[0;34m\u001b[0m\u001b[0m\n\u001b[0;32m---> 13\u001b[0;31m     \u001b[0mdata\u001b[0m\u001b[0;34m=\u001b[0m\u001b[0mdf\u001b[0m\u001b[0;34m,\u001b[0m\u001b[0;34m\u001b[0m\u001b[0;34m\u001b[0m\u001b[0m\n\u001b[0m\u001b[1;32m     14\u001b[0m     \u001b[0mcolumns\u001b[0m\u001b[0;34m=\u001b[0m\u001b[0;34m[\u001b[0m\u001b[0;34m\"Country\"\u001b[0m\u001b[0;34m,\u001b[0m \u001b[0;34m\"Count\"\u001b[0m\u001b[0;34m]\u001b[0m\u001b[0;34m,\u001b[0m\u001b[0;34m\u001b[0m\u001b[0;34m\u001b[0m\u001b[0m\n\u001b[1;32m     15\u001b[0m     \u001b[0mkey_on\u001b[0m\u001b[0;34m=\u001b[0m\u001b[0;34m\"feature.properties.name\"\u001b[0m\u001b[0;34m,\u001b[0m\u001b[0;34m\u001b[0m\u001b[0;34m\u001b[0m\u001b[0m\n",
            "\u001b[0;31mNameError\u001b[0m: name 'df' is not defined"
          ]
        }
      ],
      "source": [
        "import pandas as pd\n",
        "import folium\n",
        "\n",
        "data = {\n",
        "    \"Country\": [\"India\", \"Nigeria\", \"Nepal\", ...],\n",
        "    \"Count\": [28, 10, 6, ...]\n",
        "}\n",
        "\n",
        "# Create a choropleth map\n",
        "world_map = folium.Map(location=[20, 70], zoom_start=2)\n",
        "folium.Choropleth(\n",
        "    geo_data=\"world-countries.json\",\n",
        "    data=df,\n",
        "    columns=[\"Country\", \"Count\"],\n",
        "    key_on=\"feature.properties.name\",\n",
        "    fill_color=\"YlOrRd\",\n",
        "    legend_name=\"Frequency\"\n",
        ").add_to(world_map)\n",
        "\n",
        "world_map.save(\"map.html\")"
      ]
    },
    {
      "cell_type": "code",
      "source": [
        "pip install pandas folium geopandas"
      ],
      "metadata": {
        "colab": {
          "base_uri": "https://localhost:8080/"
        },
        "id": "IFetAMd0LrbT",
        "outputId": "dec15d8f-5b2f-4d10-949c-d919e601bb7f"
      },
      "execution_count": 2,
      "outputs": [
        {
          "output_type": "stream",
          "name": "stdout",
          "text": [
            "Requirement already satisfied: pandas in /usr/local/lib/python3.11/dist-packages (2.2.2)\n",
            "Requirement already satisfied: folium in /usr/local/lib/python3.11/dist-packages (0.19.4)\n",
            "Requirement already satisfied: geopandas in /usr/local/lib/python3.11/dist-packages (1.0.1)\n",
            "Requirement already satisfied: numpy>=1.23.2 in /usr/local/lib/python3.11/dist-packages (from pandas) (1.26.4)\n",
            "Requirement already satisfied: python-dateutil>=2.8.2 in /usr/local/lib/python3.11/dist-packages (from pandas) (2.8.2)\n",
            "Requirement already satisfied: pytz>=2020.1 in /usr/local/lib/python3.11/dist-packages (from pandas) (2025.1)\n",
            "Requirement already satisfied: tzdata>=2022.7 in /usr/local/lib/python3.11/dist-packages (from pandas) (2025.1)\n",
            "Requirement already satisfied: branca>=0.6.0 in /usr/local/lib/python3.11/dist-packages (from folium) (0.8.1)\n",
            "Requirement already satisfied: jinja2>=2.9 in /usr/local/lib/python3.11/dist-packages (from folium) (3.1.5)\n",
            "Requirement already satisfied: requests in /usr/local/lib/python3.11/dist-packages (from folium) (2.32.3)\n",
            "Requirement already satisfied: xyzservices in /usr/local/lib/python3.11/dist-packages (from folium) (2025.1.0)\n",
            "Requirement already satisfied: pyogrio>=0.7.2 in /usr/local/lib/python3.11/dist-packages (from geopandas) (0.10.0)\n",
            "Requirement already satisfied: packaging in /usr/local/lib/python3.11/dist-packages (from geopandas) (24.2)\n",
            "Requirement already satisfied: pyproj>=3.3.0 in /usr/local/lib/python3.11/dist-packages (from geopandas) (3.7.0)\n",
            "Requirement already satisfied: shapely>=2.0.0 in /usr/local/lib/python3.11/dist-packages (from geopandas) (2.0.7)\n",
            "Requirement already satisfied: MarkupSafe>=2.0 in /usr/local/lib/python3.11/dist-packages (from jinja2>=2.9->folium) (3.0.2)\n",
            "Requirement already satisfied: certifi in /usr/local/lib/python3.11/dist-packages (from pyogrio>=0.7.2->geopandas) (2025.1.31)\n",
            "Requirement already satisfied: six>=1.5 in /usr/local/lib/python3.11/dist-packages (from python-dateutil>=2.8.2->pandas) (1.17.0)\n",
            "Requirement already satisfied: charset-normalizer<4,>=2 in /usr/local/lib/python3.11/dist-packages (from requests->folium) (3.4.1)\n",
            "Requirement already satisfied: idna<4,>=2.5 in /usr/local/lib/python3.11/dist-packages (from requests->folium) (3.10)\n",
            "Requirement already satisfied: urllib3<3,>=1.21.1 in /usr/local/lib/python3.11/dist-packages (from requests->folium) (2.3.0)\n"
          ]
        }
      ]
    },
    {
      "cell_type": "code",
      "source": [
        "import pandas as pd\n",
        "import folium\n",
        "\n",
        "# Create the DataFrame with cleaned data\n",
        "data = {\n",
        "    \"Country\": [\n",
        "        \"India\", \"Nigeria\", \"Nepal\", \"Bangladesh\", \"Pakistan\",\n",
        "        \"United Kingdom\", \"Morocco\", \"Sweden\", \"Philippines\",\n",
        "        \"South Korea\", \"France\", \"Kenya\", \"Ukraine\", \"Uganda\",\n",
        "        \"Lebanon\", \"Egypt\"\n",
        "    ],\n",
        "    \"Count\": [\n",
        "        28, 10, 6, 5, 2,\n",
        "        1, 1, 1, 1,\n",
        "        1, 1, 1, 1, 1,\n",
        "        1, 1\n",
        "    ]\n",
        "}\n",
        "\n",
        "df = pd.DataFrame(data)  # Define the DataFrame\n",
        "\n",
        "# Create a choropleth map\n",
        "world_map = folium.Map(location=[20, 70], zoom_start=2)\n",
        "\n",
        "# Add the choropleth layer\n",
        "folium.Choropleth(\n",
        "    geo_data=\"https://raw.githubusercontent.com/python-visualization/folium/main/examples/data/world-countries.json\",  # GeoJSON file\n",
        "    name=\"choropleth\",\n",
        "    data=df,\n",
        "    columns=[\"Country\", \"Count\"],\n",
        "    key_on=\"feature.properties.name\",\n",
        "    fill_color=\"YlOrRd\",\n",
        "    fill_opacity=0.7,\n",
        "    line_opacity=0.2,\n",
        "    legend_name=\"Frequency of Entries\"\n",
        ").add_to(world_map)\n",
        "\n",
        "# Add tooltips for interactivity\n",
        "folium.LayerControl().add_to(world_map)\n",
        "\n",
        "# Save the map\n",
        "world_map.save(\"world_map.html\")"
      ],
      "metadata": {
        "id": "StbzJaMOLwnc"
      },
      "execution_count": 6,
      "outputs": []
    },
    {
      "cell_type": "code",
      "source": [
        "import folium\n",
        "from geopy.geocoders import Nominatim\n",
        "\n",
        "# Initialize map centered at a global view\n",
        "world_map = folium.Map(location=[20, 0], zoom_start=2)\n",
        "\n",
        "# Initialize geolocator\n",
        "geolocator = Nominatim(user_agent=\"geo_visualizer\")\n",
        "\n",
        "# Dictionary to store country coordinates\n",
        "country_coordinates = {}\n",
        "\n",
        "# Get coordinates for each unique country\n",
        "for country in set(countries_cleaned):\n",
        "    try:\n",
        "        location = geolocator.geocode(country)\n",
        "        if location:\n",
        "            country_coordinates[country] = (location.latitude, location.longitude)\n",
        "    except:\n",
        "        continue\n",
        "\n",
        "# Add markers for each country with occurrences\n",
        "for country, coords in country_coordinates.items():\n",
        "    folium.CircleMarker(\n",
        "        location=coords,\n",
        "        radius=5 + country_counts[country] * 2,  # Size represents occurrence count\n",
        "        color=\"red\",\n",
        "        fill=True,\n",
        "        fill_color=\"red\",\n",
        "        fill_opacity=0.6,\n",
        "        popup=f\"{country}: {country_counts[country]} occurrences\",\n",
        "    ).add_to(world_map)\n",
        "\n",
        "# Save and display map\n",
        "map_path = \"/mnt/data/geospatial_map.html\"\n",
        "world_map.save(map_path)\n",
        "map_path\n"
      ],
      "metadata": {
        "colab": {
          "base_uri": "https://localhost:8080/",
          "height": 211
        },
        "id": "NcP-dndsNhBQ",
        "outputId": "797e6b58-f70a-4715-b316-c3949a578918"
      },
      "execution_count": 7,
      "outputs": [
        {
          "output_type": "error",
          "ename": "NameError",
          "evalue": "name 'countries_cleaned' is not defined",
          "traceback": [
            "\u001b[0;31m---------------------------------------------------------------------------\u001b[0m",
            "\u001b[0;31mNameError\u001b[0m                                 Traceback (most recent call last)",
            "\u001b[0;32m<ipython-input-7-c61ef5d60b5c>\u001b[0m in \u001b[0;36m<cell line: 0>\u001b[0;34m()\u001b[0m\n\u001b[1;32m     12\u001b[0m \u001b[0;34m\u001b[0m\u001b[0m\n\u001b[1;32m     13\u001b[0m \u001b[0;31m# Get coordinates for each unique country\u001b[0m\u001b[0;34m\u001b[0m\u001b[0;34m\u001b[0m\u001b[0m\n\u001b[0;32m---> 14\u001b[0;31m \u001b[0;32mfor\u001b[0m \u001b[0mcountry\u001b[0m \u001b[0;32min\u001b[0m \u001b[0mset\u001b[0m\u001b[0;34m(\u001b[0m\u001b[0mcountries_cleaned\u001b[0m\u001b[0;34m)\u001b[0m\u001b[0;34m:\u001b[0m\u001b[0;34m\u001b[0m\u001b[0;34m\u001b[0m\u001b[0m\n\u001b[0m\u001b[1;32m     15\u001b[0m     \u001b[0;32mtry\u001b[0m\u001b[0;34m:\u001b[0m\u001b[0;34m\u001b[0m\u001b[0;34m\u001b[0m\u001b[0m\n\u001b[1;32m     16\u001b[0m         \u001b[0mlocation\u001b[0m \u001b[0;34m=\u001b[0m \u001b[0mgeolocator\u001b[0m\u001b[0;34m.\u001b[0m\u001b[0mgeocode\u001b[0m\u001b[0;34m(\u001b[0m\u001b[0mcountry\u001b[0m\u001b[0;34m)\u001b[0m\u001b[0;34m\u001b[0m\u001b[0;34m\u001b[0m\u001b[0m\n",
            "\u001b[0;31mNameError\u001b[0m: name 'countries_cleaned' is not defined"
          ]
        }
      ]
    },
    {
      "cell_type": "code",
      "source": [
        "import folium\n",
        "from geopy.geocoders import Nominatim\n",
        "import time\n",
        "\n",
        "# Recreating the list of countries\n",
        "countries = [\n",
        "    \"Egypt\", \"India\", \"Tirupattur, Tamil Nadu, India\", \"India\", \"India\", \"Bangladesh\", \"Lebanon\",\n",
        "    \"United Kingdom\", \"India\", \"Nigeria\", \"India\", \"India\", \"India\", \"India\", \"Morocco\", \"Sweden\",\n",
        "    \"Pakistan\", \"Bangladesh\", \"Ind\", \"India\", \"India\", \"India\", \"India\", \"Nigeria\", \"Nigeria\",\n",
        "    \"India\", \"Bangladesh\", \"India\", \"Pakistan\", \"Philippines\", \"Nigeria\", \"Nigeria\", \"Nigeria\",\n",
        "    \"Nigeria\", \"India\", \"India\", \"Viet Nam\", \"Nepal\", \"India\", \"Bangladesh\", \"India\", \"India\",\n",
        "    \"Nepal\", \"Surat , Gujarat, India\", \"Nepal\", \"Nepal\", \"Nigeria\", \"India\", \"India\", \"Nigeria\",\n",
        "    \"India\", \"Nepal\", \"India\", \"South Korea\", \"Nepal\", \"Nigeria\", \"Bangladesh\", \"Nigeria\", \"Nigeria\",\n",
        "    \"India\", \"France\", \"Kenya\", \"Ukraine\", \"Uganda\"\n",
        "]\n",
        "\n",
        "# Standardizing country names by removing extra spaces and handling minor inconsistencies\n",
        "countries_cleaned = [c.strip().replace(\"Ind\", \"India\").split(\",\")[0] for c in countries]\n",
        "\n",
        "# Counting occurrences of each country\n",
        "country_counts = Counter(countries_cleaned)\n",
        "\n",
        "# Initialize map centered at a global view\n",
        "world_map = folium.Map(location=[20, 0], zoom_start=2)\n",
        "\n",
        "# Initialize geolocator\n",
        "geolocator = Nominatim(user_agent=\"geo_visualizer\")\n",
        "\n",
        "# Dictionary to store country coordinates\n",
        "country_coordinates = {}\n",
        "\n",
        "# Get coordinates for each unique country\n",
        "for country in set(countries_cleaned):\n",
        "    try:\n",
        "        location = geolocator.geocode(country)\n",
        "        if location:\n",
        "            country_coordinates[country] = (location.latitude, location.longitude)\n",
        "        time.sleep(1)  # To prevent request overload\n",
        "    except:\n",
        "        continue\n",
        "\n",
        "# Add markers for each country with occurrences\n",
        "for country, coords in country_coordinates.items():\n",
        "    folium.CircleMarker(\n",
        "        location=coords,\n",
        "        radius=5 + country_counts[country] * 2,  # Size represents occurrence count\n",
        "        color=\"red\",\n",
        "        fill=True,\n",
        "        fill_color=\"red\",\n",
        "        fill_opacity=0.6,\n",
        "        popup=f\"{country}: {country_counts[country]} occurrences\",\n",
        "    ).add_to(world_map)\n",
        "\n",
        "# Save and display map\n",
        "map_path = \"/mnt/data/geospatial_map.html\"\n",
        "world_map.save(map_path)\n",
        "map_path\n"
      ],
      "metadata": {
        "colab": {
          "base_uri": "https://localhost:8080/",
          "height": 211
        },
        "id": "lRmwPwnQNvh_",
        "outputId": "f54b930d-31de-4424-e9e6-73dd70ae67bc"
      },
      "execution_count": 8,
      "outputs": [
        {
          "output_type": "error",
          "ename": "NameError",
          "evalue": "name 'Counter' is not defined",
          "traceback": [
            "\u001b[0;31m---------------------------------------------------------------------------\u001b[0m",
            "\u001b[0;31mNameError\u001b[0m                                 Traceback (most recent call last)",
            "\u001b[0;32m<ipython-input-8-ac3d9233b315>\u001b[0m in \u001b[0;36m<cell line: 0>\u001b[0;34m()\u001b[0m\n\u001b[1;32m     19\u001b[0m \u001b[0;34m\u001b[0m\u001b[0m\n\u001b[1;32m     20\u001b[0m \u001b[0;31m# Counting occurrences of each country\u001b[0m\u001b[0;34m\u001b[0m\u001b[0;34m\u001b[0m\u001b[0m\n\u001b[0;32m---> 21\u001b[0;31m \u001b[0mcountry_counts\u001b[0m \u001b[0;34m=\u001b[0m \u001b[0mCounter\u001b[0m\u001b[0;34m(\u001b[0m\u001b[0mcountries_cleaned\u001b[0m\u001b[0;34m)\u001b[0m\u001b[0;34m\u001b[0m\u001b[0;34m\u001b[0m\u001b[0m\n\u001b[0m\u001b[1;32m     22\u001b[0m \u001b[0;34m\u001b[0m\u001b[0m\n\u001b[1;32m     23\u001b[0m \u001b[0;31m# Initialize map centered at a global view\u001b[0m\u001b[0;34m\u001b[0m\u001b[0;34m\u001b[0m\u001b[0m\n",
            "\u001b[0;31mNameError\u001b[0m: name 'Counter' is not defined"
          ]
        }
      ]
    },
    {
      "cell_type": "code",
      "source": [
        "import plotly.express as px\n",
        "import pandas as pd\n",
        "\n",
        "# Your country data\n",
        "countries = [\n",
        "    \"Egypt\", \"India\", \"Tirupattur, Tamil Nadu, India\", \"India\", \"India\", \"Bangladesh\", \"Lebanon\",\n",
        "    \"United Kingdom\", \"India\", \"Nigeria\", \"India\", \"India\", \"India\", \"India\", \"Morocco\", \"Sweden\",\n",
        "    \"Pakistan\", \"Bangladesh\", \"Ind\", \"India\", \"India\", \"India\", \"India\", \"Nigeria\", \"Nigeria\",\n",
        "    \"India\", \"Bangladesh\", \"India\", \"Pakistan\", \"Philippines\", \"Nigeria\", \"Nigeria\", \"Nigeria\",\n",
        "    \"Nigeria\", \"India\", \"India\", \"Viet Nam\", \"Nepal\", \"India\", \"Bangladesh\", \"India\", \"India\",\n",
        "    \"Nepal\", \"Surat , Gujarat, India\", \"Nepal\", \"Nepal\", \"Nigeria\", \"India\", \"India\", \"Nigeria\",\n",
        "    \"India\", \"Nepal\", \"India\", \"South Korea\", \"Nepal\", \"Nigeria\", \"Bangladesh\", \"Nigeria\", \"Nigeria\",\n",
        "    \"India\", \"France\", \"Kenya\", \"Ukraine\", \"Uganda\"\n",
        "]\n",
        "\n",
        "# Count occurrences\n",
        "country_counts = {country: countries.count(country) for country in set(countries)}\n",
        "\n",
        "# Convert to DataFrame\n",
        "df = pd.DataFrame(list(country_counts.items()), columns=[\"Country\", \"Occurrences\"])\n",
        "\n",
        "# Create choropleth map\n",
        "fig = px.choropleth(\n",
        "    df,\n",
        "    locations=\"Country\",\n",
        "    locationmode=\"country names\",\n",
        "    color=\"Occurrences\",\n",
        "    hover_name=\"Country\",\n",
        "    color_continuous_scale=\"Reds\",\n",
        "    title=\"Geospatial Visualization of Country Occurrences\"\n",
        ")\n",
        "\n",
        "# Show map\n",
        "fig.show()\n"
      ],
      "metadata": {
        "colab": {
          "base_uri": "https://localhost:8080/",
          "height": 542
        },
        "id": "dYC_MK3wOkWU",
        "outputId": "6f26772e-44a3-4b11-81fd-a9fd7c3f62f7"
      },
      "execution_count": 10,
      "outputs": [
        {
          "output_type": "display_data",
          "data": {
            "text/html": [
              "<html>\n",
              "<head><meta charset=\"utf-8\" /></head>\n",
              "<body>\n",
              "    <div>            <script src=\"https://cdnjs.cloudflare.com/ajax/libs/mathjax/2.7.5/MathJax.js?config=TeX-AMS-MML_SVG\"></script><script type=\"text/javascript\">if (window.MathJax && window.MathJax.Hub && window.MathJax.Hub.Config) {window.MathJax.Hub.Config({SVG: {font: \"STIX-Web\"}});}</script>                <script type=\"text/javascript\">window.PlotlyConfig = {MathJaxConfig: 'local'};</script>\n",
              "        <script charset=\"utf-8\" src=\"https://cdn.plot.ly/plotly-2.35.2.min.js\"></script>                <div id=\"58949679-2d6a-4bbf-8eef-6677e729924c\" class=\"plotly-graph-div\" style=\"height:525px; width:100%;\"></div>            <script type=\"text/javascript\">                                    window.PLOTLYENV=window.PLOTLYENV || {};                                    if (document.getElementById(\"58949679-2d6a-4bbf-8eef-6677e729924c\")) {                    Plotly.newPlot(                        \"58949679-2d6a-4bbf-8eef-6677e729924c\",                        [{\"coloraxis\":\"coloraxis\",\"geo\":\"geo\",\"hovertemplate\":\"\\u003cb\\u003e%{hovertext}\\u003c\\u002fb\\u003e\\u003cbr\\u003e\\u003cbr\\u003eCountry=%{location}\\u003cbr\\u003eOccurrences=%{z}\\u003cextra\\u003e\\u003c\\u002fextra\\u003e\",\"hovertext\":[\"Kenya\",\"Philippines\",\"Ind\",\"Morocco\",\"Lebanon\",\"Nepal\",\"Pakistan\",\"United Kingdom\",\"France\",\"Surat , Gujarat, India\",\"Viet Nam\",\"South Korea\",\"Egypt\",\"Sweden\",\"Nigeria\",\"India\",\"Ukraine\",\"Bangladesh\",\"Uganda\",\"Tirupattur, Tamil Nadu, India\"],\"locationmode\":\"country names\",\"locations\":[\"Kenya\",\"Philippines\",\"Ind\",\"Morocco\",\"Lebanon\",\"Nepal\",\"Pakistan\",\"United Kingdom\",\"France\",\"Surat , Gujarat, India\",\"Viet Nam\",\"South Korea\",\"Egypt\",\"Sweden\",\"Nigeria\",\"India\",\"Ukraine\",\"Bangladesh\",\"Uganda\",\"Tirupattur, Tamil Nadu, India\"],\"name\":\"\",\"z\":[1,1,1,1,1,6,2,1,1,1,1,1,1,1,12,24,1,5,1,1],\"type\":\"choropleth\"}],                        {\"template\":{\"data\":{\"histogram2dcontour\":[{\"type\":\"histogram2dcontour\",\"colorbar\":{\"outlinewidth\":0,\"ticks\":\"\"},\"colorscale\":[[0.0,\"#0d0887\"],[0.1111111111111111,\"#46039f\"],[0.2222222222222222,\"#7201a8\"],[0.3333333333333333,\"#9c179e\"],[0.4444444444444444,\"#bd3786\"],[0.5555555555555556,\"#d8576b\"],[0.6666666666666666,\"#ed7953\"],[0.7777777777777778,\"#fb9f3a\"],[0.8888888888888888,\"#fdca26\"],[1.0,\"#f0f921\"]]}],\"choropleth\":[{\"type\":\"choropleth\",\"colorbar\":{\"outlinewidth\":0,\"ticks\":\"\"}}],\"histogram2d\":[{\"type\":\"histogram2d\",\"colorbar\":{\"outlinewidth\":0,\"ticks\":\"\"},\"colorscale\":[[0.0,\"#0d0887\"],[0.1111111111111111,\"#46039f\"],[0.2222222222222222,\"#7201a8\"],[0.3333333333333333,\"#9c179e\"],[0.4444444444444444,\"#bd3786\"],[0.5555555555555556,\"#d8576b\"],[0.6666666666666666,\"#ed7953\"],[0.7777777777777778,\"#fb9f3a\"],[0.8888888888888888,\"#fdca26\"],[1.0,\"#f0f921\"]]}],\"heatmap\":[{\"type\":\"heatmap\",\"colorbar\":{\"outlinewidth\":0,\"ticks\":\"\"},\"colorscale\":[[0.0,\"#0d0887\"],[0.1111111111111111,\"#46039f\"],[0.2222222222222222,\"#7201a8\"],[0.3333333333333333,\"#9c179e\"],[0.4444444444444444,\"#bd3786\"],[0.5555555555555556,\"#d8576b\"],[0.6666666666666666,\"#ed7953\"],[0.7777777777777778,\"#fb9f3a\"],[0.8888888888888888,\"#fdca26\"],[1.0,\"#f0f921\"]]}],\"heatmapgl\":[{\"type\":\"heatmapgl\",\"colorbar\":{\"outlinewidth\":0,\"ticks\":\"\"},\"colorscale\":[[0.0,\"#0d0887\"],[0.1111111111111111,\"#46039f\"],[0.2222222222222222,\"#7201a8\"],[0.3333333333333333,\"#9c179e\"],[0.4444444444444444,\"#bd3786\"],[0.5555555555555556,\"#d8576b\"],[0.6666666666666666,\"#ed7953\"],[0.7777777777777778,\"#fb9f3a\"],[0.8888888888888888,\"#fdca26\"],[1.0,\"#f0f921\"]]}],\"contourcarpet\":[{\"type\":\"contourcarpet\",\"colorbar\":{\"outlinewidth\":0,\"ticks\":\"\"}}],\"contour\":[{\"type\":\"contour\",\"colorbar\":{\"outlinewidth\":0,\"ticks\":\"\"},\"colorscale\":[[0.0,\"#0d0887\"],[0.1111111111111111,\"#46039f\"],[0.2222222222222222,\"#7201a8\"],[0.3333333333333333,\"#9c179e\"],[0.4444444444444444,\"#bd3786\"],[0.5555555555555556,\"#d8576b\"],[0.6666666666666666,\"#ed7953\"],[0.7777777777777778,\"#fb9f3a\"],[0.8888888888888888,\"#fdca26\"],[1.0,\"#f0f921\"]]}],\"surface\":[{\"type\":\"surface\",\"colorbar\":{\"outlinewidth\":0,\"ticks\":\"\"},\"colorscale\":[[0.0,\"#0d0887\"],[0.1111111111111111,\"#46039f\"],[0.2222222222222222,\"#7201a8\"],[0.3333333333333333,\"#9c179e\"],[0.4444444444444444,\"#bd3786\"],[0.5555555555555556,\"#d8576b\"],[0.6666666666666666,\"#ed7953\"],[0.7777777777777778,\"#fb9f3a\"],[0.8888888888888888,\"#fdca26\"],[1.0,\"#f0f921\"]]}],\"mesh3d\":[{\"type\":\"mesh3d\",\"colorbar\":{\"outlinewidth\":0,\"ticks\":\"\"}}],\"scatter\":[{\"fillpattern\":{\"fillmode\":\"overlay\",\"size\":10,\"solidity\":0.2},\"type\":\"scatter\"}],\"parcoords\":[{\"type\":\"parcoords\",\"line\":{\"colorbar\":{\"outlinewidth\":0,\"ticks\":\"\"}}}],\"scatterpolargl\":[{\"type\":\"scatterpolargl\",\"marker\":{\"colorbar\":{\"outlinewidth\":0,\"ticks\":\"\"}}}],\"bar\":[{\"error_x\":{\"color\":\"#2a3f5f\"},\"error_y\":{\"color\":\"#2a3f5f\"},\"marker\":{\"line\":{\"color\":\"#E5ECF6\",\"width\":0.5},\"pattern\":{\"fillmode\":\"overlay\",\"size\":10,\"solidity\":0.2}},\"type\":\"bar\"}],\"scattergeo\":[{\"type\":\"scattergeo\",\"marker\":{\"colorbar\":{\"outlinewidth\":0,\"ticks\":\"\"}}}],\"scatterpolar\":[{\"type\":\"scatterpolar\",\"marker\":{\"colorbar\":{\"outlinewidth\":0,\"ticks\":\"\"}}}],\"histogram\":[{\"marker\":{\"pattern\":{\"fillmode\":\"overlay\",\"size\":10,\"solidity\":0.2}},\"type\":\"histogram\"}],\"scattergl\":[{\"type\":\"scattergl\",\"marker\":{\"colorbar\":{\"outlinewidth\":0,\"ticks\":\"\"}}}],\"scatter3d\":[{\"type\":\"scatter3d\",\"line\":{\"colorbar\":{\"outlinewidth\":0,\"ticks\":\"\"}},\"marker\":{\"colorbar\":{\"outlinewidth\":0,\"ticks\":\"\"}}}],\"scattermapbox\":[{\"type\":\"scattermapbox\",\"marker\":{\"colorbar\":{\"outlinewidth\":0,\"ticks\":\"\"}}}],\"scatterternary\":[{\"type\":\"scatterternary\",\"marker\":{\"colorbar\":{\"outlinewidth\":0,\"ticks\":\"\"}}}],\"scattercarpet\":[{\"type\":\"scattercarpet\",\"marker\":{\"colorbar\":{\"outlinewidth\":0,\"ticks\":\"\"}}}],\"carpet\":[{\"aaxis\":{\"endlinecolor\":\"#2a3f5f\",\"gridcolor\":\"white\",\"linecolor\":\"white\",\"minorgridcolor\":\"white\",\"startlinecolor\":\"#2a3f5f\"},\"baxis\":{\"endlinecolor\":\"#2a3f5f\",\"gridcolor\":\"white\",\"linecolor\":\"white\",\"minorgridcolor\":\"white\",\"startlinecolor\":\"#2a3f5f\"},\"type\":\"carpet\"}],\"table\":[{\"cells\":{\"fill\":{\"color\":\"#EBF0F8\"},\"line\":{\"color\":\"white\"}},\"header\":{\"fill\":{\"color\":\"#C8D4E3\"},\"line\":{\"color\":\"white\"}},\"type\":\"table\"}],\"barpolar\":[{\"marker\":{\"line\":{\"color\":\"#E5ECF6\",\"width\":0.5},\"pattern\":{\"fillmode\":\"overlay\",\"size\":10,\"solidity\":0.2}},\"type\":\"barpolar\"}],\"pie\":[{\"automargin\":true,\"type\":\"pie\"}]},\"layout\":{\"autotypenumbers\":\"strict\",\"colorway\":[\"#636efa\",\"#EF553B\",\"#00cc96\",\"#ab63fa\",\"#FFA15A\",\"#19d3f3\",\"#FF6692\",\"#B6E880\",\"#FF97FF\",\"#FECB52\"],\"font\":{\"color\":\"#2a3f5f\"},\"hovermode\":\"closest\",\"hoverlabel\":{\"align\":\"left\"},\"paper_bgcolor\":\"white\",\"plot_bgcolor\":\"#E5ECF6\",\"polar\":{\"bgcolor\":\"#E5ECF6\",\"angularaxis\":{\"gridcolor\":\"white\",\"linecolor\":\"white\",\"ticks\":\"\"},\"radialaxis\":{\"gridcolor\":\"white\",\"linecolor\":\"white\",\"ticks\":\"\"}},\"ternary\":{\"bgcolor\":\"#E5ECF6\",\"aaxis\":{\"gridcolor\":\"white\",\"linecolor\":\"white\",\"ticks\":\"\"},\"baxis\":{\"gridcolor\":\"white\",\"linecolor\":\"white\",\"ticks\":\"\"},\"caxis\":{\"gridcolor\":\"white\",\"linecolor\":\"white\",\"ticks\":\"\"}},\"coloraxis\":{\"colorbar\":{\"outlinewidth\":0,\"ticks\":\"\"}},\"colorscale\":{\"sequential\":[[0.0,\"#0d0887\"],[0.1111111111111111,\"#46039f\"],[0.2222222222222222,\"#7201a8\"],[0.3333333333333333,\"#9c179e\"],[0.4444444444444444,\"#bd3786\"],[0.5555555555555556,\"#d8576b\"],[0.6666666666666666,\"#ed7953\"],[0.7777777777777778,\"#fb9f3a\"],[0.8888888888888888,\"#fdca26\"],[1.0,\"#f0f921\"]],\"sequentialminus\":[[0.0,\"#0d0887\"],[0.1111111111111111,\"#46039f\"],[0.2222222222222222,\"#7201a8\"],[0.3333333333333333,\"#9c179e\"],[0.4444444444444444,\"#bd3786\"],[0.5555555555555556,\"#d8576b\"],[0.6666666666666666,\"#ed7953\"],[0.7777777777777778,\"#fb9f3a\"],[0.8888888888888888,\"#fdca26\"],[1.0,\"#f0f921\"]],\"diverging\":[[0,\"#8e0152\"],[0.1,\"#c51b7d\"],[0.2,\"#de77ae\"],[0.3,\"#f1b6da\"],[0.4,\"#fde0ef\"],[0.5,\"#f7f7f7\"],[0.6,\"#e6f5d0\"],[0.7,\"#b8e186\"],[0.8,\"#7fbc41\"],[0.9,\"#4d9221\"],[1,\"#276419\"]]},\"xaxis\":{\"gridcolor\":\"white\",\"linecolor\":\"white\",\"ticks\":\"\",\"title\":{\"standoff\":15},\"zerolinecolor\":\"white\",\"automargin\":true,\"zerolinewidth\":2},\"yaxis\":{\"gridcolor\":\"white\",\"linecolor\":\"white\",\"ticks\":\"\",\"title\":{\"standoff\":15},\"zerolinecolor\":\"white\",\"automargin\":true,\"zerolinewidth\":2},\"scene\":{\"xaxis\":{\"backgroundcolor\":\"#E5ECF6\",\"gridcolor\":\"white\",\"linecolor\":\"white\",\"showbackground\":true,\"ticks\":\"\",\"zerolinecolor\":\"white\",\"gridwidth\":2},\"yaxis\":{\"backgroundcolor\":\"#E5ECF6\",\"gridcolor\":\"white\",\"linecolor\":\"white\",\"showbackground\":true,\"ticks\":\"\",\"zerolinecolor\":\"white\",\"gridwidth\":2},\"zaxis\":{\"backgroundcolor\":\"#E5ECF6\",\"gridcolor\":\"white\",\"linecolor\":\"white\",\"showbackground\":true,\"ticks\":\"\",\"zerolinecolor\":\"white\",\"gridwidth\":2}},\"shapedefaults\":{\"line\":{\"color\":\"#2a3f5f\"}},\"annotationdefaults\":{\"arrowcolor\":\"#2a3f5f\",\"arrowhead\":0,\"arrowwidth\":1},\"geo\":{\"bgcolor\":\"white\",\"landcolor\":\"#E5ECF6\",\"subunitcolor\":\"white\",\"showland\":true,\"showlakes\":true,\"lakecolor\":\"white\"},\"title\":{\"x\":0.05},\"mapbox\":{\"style\":\"light\"}}},\"geo\":{\"domain\":{\"x\":[0.0,1.0],\"y\":[0.0,1.0]},\"center\":{}},\"coloraxis\":{\"colorbar\":{\"title\":{\"text\":\"Occurrences\"}},\"colorscale\":[[0.0,\"rgb(255,245,240)\"],[0.125,\"rgb(254,224,210)\"],[0.25,\"rgb(252,187,161)\"],[0.375,\"rgb(252,146,114)\"],[0.5,\"rgb(251,106,74)\"],[0.625,\"rgb(239,59,44)\"],[0.75,\"rgb(203,24,29)\"],[0.875,\"rgb(165,15,21)\"],[1.0,\"rgb(103,0,13)\"]]},\"legend\":{\"tracegroupgap\":0},\"title\":{\"text\":\"Geospatial Visualization of Country Occurrences\"}},                        {\"responsive\": true}                    ).then(function(){\n",
              "                            \n",
              "var gd = document.getElementById('58949679-2d6a-4bbf-8eef-6677e729924c');\n",
              "var x = new MutationObserver(function (mutations, observer) {{\n",
              "        var display = window.getComputedStyle(gd).display;\n",
              "        if (!display || display === 'none') {{\n",
              "            console.log([gd, 'removed!']);\n",
              "            Plotly.purge(gd);\n",
              "            observer.disconnect();\n",
              "        }}\n",
              "}});\n",
              "\n",
              "// Listen for the removal of the full notebook cells\n",
              "var notebookContainer = gd.closest('#notebook-container');\n",
              "if (notebookContainer) {{\n",
              "    x.observe(notebookContainer, {childList: true});\n",
              "}}\n",
              "\n",
              "// Listen for the clearing of the current output cell\n",
              "var outputEl = gd.closest('.output');\n",
              "if (outputEl) {{\n",
              "    x.observe(outputEl, {childList: true});\n",
              "}}\n",
              "\n",
              "                        })                };                            </script>        </div>\n",
              "</body>\n",
              "</html>"
            ]
          },
          "metadata": {}
        }
      ]
    }
  ]
}